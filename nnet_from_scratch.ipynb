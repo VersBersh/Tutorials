{
 "cells": [
  {
   "cell_type": "code",
   "execution_count": 1,
   "metadata": {},
   "outputs": [
    {
     "data": {
      "text/html": [
       "<!-- some nicer latex formatting -->\n",
       "<style>\n",
       ".jp-MarkdownOutput {\n",
       "    max-width: 40vw;\n",
       "}\n",
       "</style>\n",
       "<script>\n",
       "    MathJax.Hub.Config({\n",
       "        displayAlign: \"left\",\n",
       "        displayIndent: \"2em\",\n",
       "        \"HTML-CSS\": {\n",
       "            availableFonts: [\"TeX\"],\n",
       "            preferredFont: \"TeX\",\n",
       "        }\n",
       "    });\n",
       "    MathJax.Hub.Queue(\n",
       "        [\"resetEquationNumbers\", MathJax.InputJax.TeX],\n",
       "        [\"PreProcess\", MathJax.Hub],\n",
       "        [\"Reprocess\", MathJax.Hub]\n",
       "    );\n",
       "</script>\n"
      ],
      "text/plain": [
       "<IPython.core.display.HTML object>"
      ]
     },
     "metadata": {},
     "output_type": "display_data"
    }
   ],
   "source": [
    "%%HTML\n",
    "<!-- some nicer latex formatting -->\n",
    "<style>\n",
    ".jp-MarkdownOutput {\n",
    "    max-width: 40vw;\n",
    "}\n",
    "</style>\n",
    "<script>\n",
    "    MathJax.Hub.Config({\n",
    "        displayAlign: \"left\",\n",
    "        displayIndent: \"2em\",\n",
    "        \"HTML-CSS\": {\n",
    "            availableFonts: [\"TeX\"],\n",
    "            preferredFont: \"TeX\",\n",
    "        }\n",
    "    });\n",
    "    MathJax.Hub.Queue(\n",
    "        [\"resetEquationNumbers\", MathJax.InputJax.TeX],\n",
    "        [\"PreProcess\", MathJax.Hub],\n",
    "        [\"Reprocess\", MathJax.Hub]\n",
    "    );\n",
    "</script>"
   ]
  },
  {
   "cell_type": "markdown",
   "metadata": {},
   "source": [
    "# A Neurel Network from First Principles\n",
    "\n",
    "[some inspiration](https://www.youtube.com/watch?v=aircAruvnKk&t=992s)\n",
    "\n",
    "In this notebook we will build a simple fully connected neurel network with $H$ hidden layers.\n",
    "\n",
    "The model will predict the digit from images of handwritten digits from the [MNIST data set](https://www.kaggle.com/c/digit-recognizer/data)\n",
    "\n",
    "You should download this dataset to use this notebook"
   ]
  },
  {
   "cell_type": "markdown",
   "metadata": {},
   "source": [
    "## Prerequisites\n",
    "\n",
    "We will work with _left matrix multiplication_ because it will make some things such as the chain rule easier.\n",
    "\n",
    "For any differentiable function, $f : \\mathbb{R}^n \\to \\mathbb{R}$, the _gradient_ is the vector/row matrix of partial derivatives\n",
    "\n",
    "$$\n",
    "\\nabla f = \\frac{\\partial f}{\\partial x} = \\left\\langle \\frac{\\partial f}{\\partial x_0},\\, \\dots,\\, \\frac{\\partial f}{\\partial x_{n-1}} \\right\\rangle \\tag{1}\n",
    "$$\n",
    "\n",
    "\n",
    "Similarly, for any differentiable function, $f : \\mathbb{R}^n \\to \\mathbb{R}^m$, the _Jacobian_ is the $n \\times m$ matrix of partial derivatives\n",
    "\n",
    "$$\n",
    "\\mathbf{J}_f = \\frac{\\partial f}{\\partial x} =\n",
    "\\begin{bmatrix}\n",
    "    \\dfrac{\\partial f_0}{\\partial x_0} & \\cdots & \\dfrac{\\partial f_{m-1}}{\\partial x_{0}} \\\\\n",
    "    \\vdots & \\ddots & \\vdots\\\\\n",
    "    \\dfrac{\\partial f_{0}}{\\partial x_{n-1}} & \\cdots & \\dfrac{\\partial f_{m-1}}{\\partial x_{n-1}} \n",
    " \\end{bmatrix}.\n",
    "$$\n",
    "\n",
    "A matrix, $A \\in M_{n \\times m}(\\mathbb{R})$, can be thought of as a linear map $f(x) = x \\, A$. In such a case: $\\mathbf{J}_f = A$\n",
    "\n",
    "If a function $f : \\mathbb{R}^n \\to \\mathbb{R}^m$ operates on each component of the vector independently, i.e. $f(x) = \\langle g(x_0),\\, g(x_1), ...,\\, g(x_n) \\rangle$, then\n",
    "\n",
    "$$\\mathbf{J}_f = \\text{diag}( \\langle g'(x_0),\\, g'(x_1), ...,\\, g'(x_n) \\rangle )$$\n",
    "\n",
    "where $\\text{diag}(x)$ is a diagonal matrix where $x$ are the values along the main diagonal.\n",
    "\n",
    "\n"
   ]
  },
  {
   "cell_type": "markdown",
   "metadata": {},
   "source": [
    "## The Data\n",
    "\n",
    "The data set is 42,000 images each labeled with a digit. Each image has dimension $28\\times 28$"
   ]
  },
  {
   "cell_type": "code",
   "execution_count": 2,
   "metadata": {},
   "outputs": [],
   "source": [
    "from pathlib import Path\n",
    "import pandas as pd\n",
    "import numpy as np\n",
    "\n",
    "\n",
    "DATA_DIR = Path(\"../digit-recognizer\").resolve(strict=True)\n",
    "data = pd.read_csv(DATA_DIR / \"train.csv\").values\n",
    "\n",
    "# shuffle the data for good measure\n",
    "np.random.shuffle(data)\n",
    "\n",
    "# scale the pixel values to be between 0 and 1\n",
    "Y = data[:, 0]\n",
    "X = data[:, 1:] / 255\n",
    "\n",
    "# split the data into a train and test set\n",
    "Xtest, Xtrain = X[:7000], X[7000:]\n",
    "Ytest, Ytrain = Y[:7000], Y[7000:]"
   ]
  },
  {
   "cell_type": "code",
   "execution_count": 3,
   "metadata": {},
   "outputs": [
    {
     "data": {
      "image/png": "[encoded data removed]",
      "text/plain": [
       "<PIL.Image.Image image mode=L size=28x28 at 0x1F452C75E48>"
      ]
     },
     "metadata": {},
     "output_type": "display_data"
    },
    {
     "name": "stdout",
     "output_type": "stream",
     "text": [
      "LABEL: 4\n"
     ]
    },
    {
     "data": {
      "image/png": "[encoded data removed]",
      "text/plain": [
       "<PIL.Image.Image image mode=L size=28x28 at 0x1F452C75DD8>"
      ]
     },
     "metadata": {},
     "output_type": "display_data"
    },
    {
     "name": "stdout",
     "output_type": "stream",
     "text": [
      "LABEL: 4\n"
     ]
    },
    {
     "data": {
      "image/png": "[encoded data removed]",
      "text/plain": [
       "<PIL.Image.Image image mode=L size=28x28 at 0x1F44ABEE1D0>"
      ]
     },
     "metadata": {},
     "output_type": "display_data"
    },
    {
     "name": "stdout",
     "output_type": "stream",
     "text": [
      "LABEL: 9\n"
     ]
    },
    {
     "data": {
      "image/png": "[encoded data removed]",
      "text/plain": [
       "<PIL.Image.Image image mode=L size=28x28 at 0x1F44ABF30B8>"
      ]
     },
     "metadata": {},
     "output_type": "display_data"
    },
    {
     "name": "stdout",
     "output_type": "stream",
     "text": [
      "LABEL: 2\n"
     ]
    },
    {
     "data": {
      "image/png": "[encoded data removed]",
      "text/plain": [
       "<PIL.Image.Image image mode=L size=28x28 at 0x1F453437A58>"
      ]
     },
     "metadata": {},
     "output_type": "display_data"
    },
    {
     "name": "stdout",
     "output_type": "stream",
     "text": [
      "LABEL: 6\n"
     ]
    }
   ],
   "source": [
    "from PIL import Image\n",
    "from IPython.display import display\n",
    "from typing import NewType\n",
    "\n",
    "def show_image(X: np.ndarray, Y: np.ndarray, index: int) -> None:\n",
    "    \"\"\" print the i-th image and it's label \"\"\"\n",
    "    label = Y[index]\n",
    "    buffer = (255*X[index].reshape(28,28)).astype(\"uint8\")\n",
    "    display(Image.fromarray(buffer))\n",
    "    print(f\"LABEL: {label}\")\n",
    "\n",
    "\n",
    "for ix in range(5):\n",
    "    show_image(X, Y, ix)"
   ]
  },
  {
   "cell_type": "markdown",
   "metadata": {},
   "source": [
    "# The Model\n",
    "\n",
    "### The Layers\n",
    "\n",
    "The images from MNIST are $28 \\times 28$ pixels, so our input layer will have $N_0=28^2=784$ nodes.\n",
    "\n",
    "Our hidden layers will have $N_1, ..., N_H$ nodes\n",
    "\n",
    "The output layer will have $N_{H+1}=10$ nodes (one for each classified digit)"
   ]
  },
  {
   "cell_type": "markdown",
   "metadata": {},
   "source": [
    "### The Nodes\n",
    "\n",
    "Other than the input layer, each node is a _weighted_ sum of the values of the nodes in the previous layer, plus a _bias_, and transformed by an _activation function_.\n",
    "\n",
    "Let $Z^{(L)}, A^{(L)} \\in \\mathbb{R}^{N_L}$ be the (row) vector of node values in layer $L$ ($L>0$) before and after the activation function (Z = linear, A = activated).\n",
    "\n",
    "Let $W_L \\in \\mathbb{M}(N_{L-1}\\times N_{L})$ be the matrix of weights between layer $L-1$ and $L$ and let $b_L \\in \\mathbb{R}^{N_L}$ be the biases on layer $L$\n",
    "\n",
    "$$\n",
    "\\begin{align*}\n",
    "Z^{(L)} &= A^{(L-1)}W_L + b_L \\\\[10pt]\n",
    "A^{(L)} &= \\text{ReLU}\\left(Z^{(L)}\\right)\n",
    "\\end{align*}\n",
    "$$\n",
    "\n",
    "Where $\\text{ReLU}$ (rectified linear unit) is the activation function\n",
    "\n",
    "$$\n",
    "\\text{ReLU}(x)_i = \\left \\{\n",
    "\\begin{array}{ll}\n",
    "      x_i & x_i \\ge 0 \\\\\n",
    "      0 & x_i < 0 \\\\\n",
    "\\end{array} \n",
    "\\right.\n",
    "$$\n",
    "\n",
    "The input layer provides the values of $A^{(0)}$\n",
    "\n",
    "We may write $A^{(L)} = \\langle a^{(L)}_0, a^{(L)}_1, ..., a^{(L)}_{N_L-1} \\rangle$, and $Z^{(L)} = \\langle z^{(L)}_0, z^{(L)}_1, ..., z^{(L)}_{N_L-1} \\rangle$.\n",
    "\n",
    "And when the layer is unambiguous we may leave off the superscript"
   ]
  },
  {
   "cell_type": "markdown",
   "metadata": {},
   "source": [
    "### The Output Layer\n",
    "\n",
    "In the output layer we replace the $\\text{ReLU}$ activation function with the $\\text{softmax}$\n",
    "\n",
    "$$\\sigma(x)_i = \\frac{e^{x_i}}{\\sum_{j=0}^{n-1} e^{x_j} }$$\n",
    "\n",
    "This guarantees that the components sum to $1$ (i.e. a probability distribution over $n$ classes)"
   ]
  },
  {
   "cell_type": "markdown",
   "metadata": {},
   "source": [
    "# Forward Pass Implementation\n",
    "\n",
    "Here we will implement the model going forward. That is, from input data to a prediction using random weights and biases."
   ]
  },
  {
   "cell_type": "code",
   "execution_count": 4,
   "metadata": {},
   "outputs": [],
   "source": [
    "from typing import Callable, Generator, Iterable, Tuple, TypeVar\n",
    "from itertools import tee\n",
    "\n",
    "T = TypeVar(\"T\")\n",
    "Arr = NewType(\"Arr\", np.ndarray)\n",
    "\n",
    "\n",
    "def pairwise(iterable: Iterable[T]) -> Generator[Tuple[T, T], None, None]:\n",
    "    \"\"\" iterate in pairs (a,b,c...) -> (a,b), (b,c), ... \"\"\"\n",
    "    a, b = tee(iterable)\n",
    "    next(b)\n",
    "    yield from zip(a, b)\n",
    "\n",
    "\n",
    "def ReLU(Z: Arr) -> Arr:\n",
    "    \"\"\" compute the ReLU \"\"\"\n",
    "    return np.where(Z > 0., Z, 0.)\n",
    "\n",
    "\n",
    "def Softmax(Z: Arr) -> Arr:\n",
    "    \"\"\" compute the softmax \"\"\"\n",
    "    exp = np.exp(Z)\n",
    "    return exp / exp.sum(axis=0)\n",
    "\n",
    "\n",
    "class FullyConnectedLayer:    \n",
    "    def __init__(self, nodes_from: int, nodes_to: int, activation: Callable):\n",
    "        \"\"\" a fully connected layer of the nerual network \n",
    "        \n",
    "         Args:\n",
    "            nodes_from: the number of nodes in the previous layer\n",
    "            nodes_to: the number of nodes in this layer\n",
    "            activation: the activation function        \n",
    "        \"\"\"\n",
    "        # initialize the weights and biases with random values\n",
    "        self.W = np.random.rand(nodes_from, nodes_to) - 0.5\n",
    "        self.b = np.random.rand(1, nodes_to) - 0.5\n",
    "        self.activation = activation\n",
    "        # we will also want to store the unactivated and activated\n",
    "        # values of the nodes in this layer\n",
    "        self.A_prev = None\n",
    "        self.Z = None\n",
    "        self.A = None        \n",
    "    \n",
    "    def forward(self, A_prev: Arr) -> Arr:\n",
    "        \"\"\" compute the values in this layer\n",
    "        \n",
    "         Args:\n",
    "             A_prev: the values of the nodes in the previous layer\n",
    "         Returns:\n",
    "             The values of the nodes in this layer\n",
    "        \"\"\"\n",
    "        self.A_prev = A_prev\n",
    "        self.Z = A_prev @ self.W + self.b\n",
    "        self.A = self.activation(self.Z)\n",
    "        return self.A\n",
    "\n",
    "\n",
    "class FCNN:    \n",
    "    def __init__(self, *layers: int):\n",
    "        \"\"\" a fully connected neurel network \n",
    "        \n",
    "         Args:\n",
    "            *layers: the number of nodes in each layer including\n",
    "                the input and output layers\n",
    "        \"\"\"\n",
    "        assert len(layers) >= 3, \"FCNN must have at least one hidden layer\"\n",
    "        self.input_size = layers[0]\n",
    "        \n",
    "        self.layers = []\n",
    "        pairs = list(pairwise(layers))\n",
    "        for n_from, n_to in pairs[:-1]:\n",
    "            fc = FullyConnectedLayer(n_from, n_to, ReLU)\n",
    "            self.layers.append(fc)\n",
    "        \n",
    "        # the final layer uses Softmax\n",
    "        n_from, n_to = pairs[-1]\n",
    "        fc = FullyConnectedLayer(n_from, n_to, Softmax)\n",
    "        self.layers.append(fc)\n",
    "    \n",
    "    def forward(self, X: Arr) -> Arr:\n",
    "        \"\"\" compute the forward pass \n",
    "         \n",
    "         Args:\n",
    "             X: an n x m array of training/testing data. n should\n",
    "                equal the number of observations and m the size \n",
    "                of the input layer\n",
    "         Returns:\n",
    "             The output layer of the network\n",
    "        \"\"\"\n",
    "        assert len(X.shape) == 2\n",
    "        assert X.shape[1] == self.input_size\n",
    "        \n",
    "        A = X\n",
    "        for layer in self.layers:\n",
    "            A = layer.forward(A)\n",
    "\n",
    "        return A"
   ]
  },
  {
   "cell_type": "code",
   "execution_count": 5,
   "metadata": {},
   "outputs": [
    {
     "name": "stdout",
     "output_type": "stream",
     "text": [
      "output shape: (4, 10)\n"
     ]
    }
   ],
   "source": [
    "# put the first four records through the model\n",
    "# the output is a 4 x 10 matrix, each column sums to 1\n",
    "model = FCNN(28*28, 100, 10, 10)\n",
    "out = model.forward(Xtrain[:4])\n",
    "print(\"output shape:\", out.shape)"
   ]
  },
  {
   "cell_type": "code",
   "execution_count": 6,
   "metadata": {},
   "outputs": [
    {
     "name": "stdout",
     "output_type": "stream",
     "text": [
      "\n",
      "model prediction: [0 2 5 3]\n",
      "actual          : [7 5 5 2]\n"
     ]
    }
   ],
   "source": [
    "# our guess will be the column with the highest probability\n",
    "predicted = np.argmax(out, axis=1)\n",
    "actual = Ytrain[:4]\n",
    "print(f\"\\n{'model prediction':<16}: {predicted}\")\n",
    "print(f\"{'actual':<16}: {actual}\")"
   ]
  },
  {
   "cell_type": "markdown",
   "metadata": {},
   "source": [
    "## Fitting the Model\n",
    "\n",
    "### The loss function\n",
    "\n",
    "The loss function measures how well our model fits the data. We will use the Sum-Square-Error ($\\text{SSE}$) loss. This is generally not the best loss function for classification problems, but it is the simplest and will suffice for this model.\n",
    "\n",
    "If the output layer is $A$ and the actual digit is $y$. Then one-hot-encode $y$ in a $\\{0,1\\}$ array of length $10$ (call this $Y$). The loss is:\n",
    "\n",
    "$$\\mathcal{L}(A,Y)=\\sum_{j=0}^{n}(a_j-y_j)^2$$\n",
    "\n",
    "When performing gradient descent we will look at the average loss accross the training set. That is\n",
    "\n",
    "$$\\mathcal{L^*}=\\frac1n\\sum_{\\text{Train Set}} \\mathcal{L}(A, Y)$$\n",
    "\n",
    "In practice this will be too slow, so the training set will be split into _batches_ and each step of the gradient descent will compute the loss for a different batch."
   ]
  },
  {
   "cell_type": "markdown",
   "metadata": {},
   "source": [
    "### Gradient Descent\n",
    "\n",
    "We want to find the values for $W_L$, and $b_L$ for all $L$ that minimise the loss function $\\mathcal{L}^*$. We do this by gradient descent.\n",
    "\n",
    "In essence, we initialise $W$ and $b$ with random values, and then in each step we compute the gradient of the loss with respect to (w.r.t) each weight/bias and adjust all of them by the gradient times a learning rate $\\alpha$.\n",
    "\n",
    "To compute the derivative of the loss w.r.t weights and biases in previous layers, split up the computation into smaller derivatives and then _propogate_ back through the network using the chain rule.\n",
    "\n",
    "We can split up the derivatives into four stages:\n",
    "* $\\mathcal{L}^* \\to A$: the derivative of the loss w.r.t the final output layer\n",
    "* $A^{(L)} \\to Z^{(L)}$: the derivative of the activated layer w.r.t the unactivated layer\n",
    "* $Z^{(L)} \\to W_L$: the derivative of the deactivated layer w.r.t the weights in that layer (and similarly the biases)\n",
    "* $Z^{(L)} \\to A^{(L-1)}$: the derivative of the deactivated layer w.r.t the previous activated layer"
   ]
  },
  {
   "cell_type": "markdown",
   "metadata": {},
   "source": [
    "### STEP 1: $\\mathcal{L}^* \\to A$\n",
    "\n",
    "Consider one forward pass of the model on a single record. Let $A=\\hat{Y}$ be the output (a row vector), $Y$ is the actual observation (one hot encoded), and $n$ is the batch size.\n",
    "\n",
    "$$\\frac{\\partial \\mathcal{L}^*}{\\partial A} = \\frac{1}n\\nabla \\mathcal{L} = \\frac{2}n(A - Y)$$"
   ]
  },
  {
   "cell_type": "code",
   "execution_count": 7,
   "metadata": {},
   "outputs": [],
   "source": [
    "class SSELoss:\n",
    "    def __call__(self, Yhat: Arr, Y: Arr) -> Arr:\n",
    "        \"\"\" Sum Square Error Loss\n",
    "         \n",
    "         Args:\n",
    "            Yhat: the prediction for each class\n",
    "            Y: the actual observations (one-hot-encoded)\n",
    "        \"\"\"\n",
    "        assert Yhat.shape == Y.shape\n",
    "        return np.square(Yhat - Y).mean(axis=0).sum()\n",
    "    \n",
    "    @staticmethod\n",
    "    def grad(Yhat: Arr, Y: Arr) -> Arr:\n",
    "        \"\"\" compute the gradient dL/dYhat  \"\"\"\n",
    "        assert Yhat.shape == Y.shape\n",
    "        return (2 / Y.shape[0]) * (Yhat - Y)"
   ]
  },
  {
   "cell_type": "markdown",
   "metadata": {},
   "source": [
    "### STEP 2: $A^{(L)} \\to Z^{(L)}$\n",
    "\n",
    "In our model we are using two activation functions, $\\text{ReLU}$, and $\\sigma$ (softmax). Let's start with the easy one\n",
    "\n",
    "**ReLU:**\n",
    "\n",
    "For vectors $A,\\,Z$ such that $A = \\text{ReLU}(Z)$\n",
    "\n",
    "$$\n",
    "\\frac{\\partial a_j}{\\partial z_j} = \\left \\{\n",
    "\\begin{array}{ll}\n",
    "      1 & z_j \\ge 0 \\\\\n",
    "      0 & z_j < 0 \\\\\n",
    "\\end{array} \n",
    "\\right.\n",
    "$$\n",
    "\n",
    "and when $i \\neq j$, $\\dfrac{\\partial a_i}{\\partial z_j} = 0$.\n",
    "\n",
    "So $\\mathbf{J}_{\\text{ReLU}}$ is a diagonal matrix with $1$ and $0$ on the main diagonal.\n",
    "\n",
    "And to compute the derivative w.r.t the loss\n",
    "\n",
    "$$\n",
    "\\frac{\\partial \\mathcal{L}}{\\partial Z} \n",
    "    = \\frac{\\partial \\mathcal{L}}{\\partial A} \\frac{\\partial A}{\\partial Z}\n",
    "    = \\left(\\frac{\\partial \\mathcal{L}}{\\partial A}\\right) \\, \\mathbf{J}_{\\text{ReLU}}\n",
    "$$\n",
    "\n",
    "Note that we can optimise the calculation taking $\\dfrac{\\partial \\mathcal{L}}{\\partial A}$ wherever $Z$ is positive"
   ]
  },
  {
   "cell_type": "code",
   "execution_count": 8,
   "metadata": {},
   "outputs": [],
   "source": [
    "class ReLU:\n",
    "    def __call__(self, Z: Arr) -> Arr:\n",
    "        \"\"\" Rectified Linear Unit \"\"\"\n",
    "        return np.where(Z > 0., Z, 0.)\n",
    "    \n",
    "    @staticmethod\n",
    "    def grad(Z: Arr, A: Arr, dA: Arr) -> Arr:\n",
    "        \"\"\" compute the gradient dL/dZ\n",
    "        \n",
    "         Args:\n",
    "             Z: the value of the unactivated layer\n",
    "             A: the values of the activated layer\n",
    "             dA: the derivatives of the loss with respect to\n",
    "                 the activated layer (dL/dA)\n",
    "         Returns:\n",
    "             the derivatives of the loss with respect to the\n",
    "             unactivated layer\n",
    "        \"\"\"\n",
    "        return np.where(Z > 0., dA, 0.)"
   ]
  },
  {
   "cell_type": "markdown",
   "metadata": {},
   "source": [
    "**Softmax function**:\n",
    "\n",
    "The softmax is slightly more involved because the Jacobian is not a diagonal matrix due to the normalising factor. In fact, the log-softmax has even nicer properties, but again I'll try to keep it (relatively) simple.\n",
    "\n",
    "For vectors $A,\\,Z$ such that $A = \\sigma(Z)$\n",
    "\n",
    "$$\n",
    "\\begin{align*}\n",
    "\\frac{\\partial a_j}{\\partial z_j} &= \\frac{\\partial}{\\partial z_j}\\left( \\frac{\\exp\\{z_j\\}}{\\sum_k \\exp\\{z_k\\}} \\right) \\\\[5pt]\n",
    "    &=  \\frac{\\partial}{\\partial z_j}\\left( \\frac{1}{1 + \\exp\\{-z_j\\}\\sum_{k\\neq j} \\exp\\{z_k\\}} \\right) \\\\[5pt]\n",
    "    &= \\frac{\\exp\\{z_j\\}(S - \\exp\\{z_j\\})}{S^2} \\qquad \\text{where} \\: S = \\sum_k \\exp\\{z_k\\} \\\\[5pt]\n",
    "    &= a_j(1 - a_j)\n",
    "\\end{align*}\n",
    "$$\n",
    "\n",
    "And when $i \\neq j$\n",
    "\n",
    "$$\n",
    "\\begin{align*}\n",
    "\\frac{\\partial \\sigma(z)_i}{\\partial z_j} &= \\frac{\\partial}{\\partial z_j}\\left( \\frac{\\exp\\{z_i\\}}{\\sum_k \\exp\\{z_k\\}} \\right) \\\\[5pt]\n",
    "    &= \\frac{-\\exp\\{z_i\\}\\exp\\{z_j\\}}{S^2} \\\\[5pt]\n",
    "    &= -a_ia_j\n",
    "\\end{align*}\n",
    "$$\n",
    "\n",
    "Putting these together we can write\n",
    "\n",
    "$$\\frac{\\partial A}{\\partial Z} = \\mathbf{J}_{\\sigma} = \\text{diag}(A) - A^TA$$\n",
    "\n",
    "Now we can compute the derivate of the loss with respect to $Z$ (the output layer before the softmax)\n",
    "\n",
    "$$\\frac{\\partial \\mathcal{L}}{\\partial Z} \n",
    "    = \\frac{\\partial \\mathcal{L}}{\\partial A} \\frac{\\partial A}{\\partial Z} \n",
    "    = \\left(\\frac{\\partial \\mathcal{L}}{\\partial A}\\right) \\mathbf{J}_{\\sigma}$$"
   ]
  },
  {
   "cell_type": "code",
   "execution_count": 9,
   "metadata": {},
   "outputs": [],
   "source": [
    "class Softmax:\n",
    "    def __call__(self, Z: Arr) -> Arr:\n",
    "        \"\"\" compute the softmax \"\"\"\n",
    "        exp = np.exp(Z)\n",
    "        return exp / exp.sum(axis=0)\n",
    "    \n",
    "    @classmethod\n",
    "    def grad(cls, Z: Arr, A: Arr, dA: Arr) -> Arr:\n",
    "        \"\"\" compute the gradient dL/dZ \"\"\"\n",
    "        dZ = cls.diag(A) - np.einsum(\"ij,ik->ijk\", A, A)\n",
    "        return np.einsum(\"ij,ijk->ik\", dA, dZ)\n",
    "\n",
    "    @staticmethod\n",
    "    def diag(Z: Arr) -> Arr:\n",
    "        \"\"\" turn a m x n array into an m x n x n array such \n",
    "            that the j-th row of the input array is converted\n",
    "            to a diagonal n x n matrix\n",
    "        \n",
    "         Remarks:\n",
    "            the first dimension of Z is the batch size\n",
    "        \"\"\"\n",
    "        m, n = Z.shape\n",
    "        out = np.zeros((m, n, n))\n",
    "        # in Einstein notation ii->i is the diagonal\n",
    "        np.einsum(\"ijj->ij\", out)[...] = Z\n",
    "        return out"
   ]
  },
  {
   "cell_type": "markdown",
   "metadata": {},
   "source": [
    "### STEP 3: $Z^{(L)} \\to W_L$:\n",
    "\n",
    "We know that $Z^{(L)} = A^{(L-1)}W_{L} + b_{L}$. \n",
    "\n",
    "As $W_L$ is 2 dimensional we won't compute the Jacobian explicitly. \n",
    "\n",
    "Instead note that $z_j = b_j + \\sum_i a_i w_{i,j}$, from which we can infer that\n",
    "\n",
    "$$\\frac{\\partial \\mathcal{L}}{\\partial w_{i,j}} = \\left(\\frac{\\partial \\mathcal{L}}{\\partial z^{(L)}_j}\\right)a_i$$\n",
    "\n",
    "Which we may express more sucinctly as\n",
    "\n",
    "$$\\frac{\\partial \\mathcal{L}}{\\partial W_L} = \\left(A^{(L-1)}\\right)^T \\left(\\frac{\\partial \\mathcal{L}}{\\partial Z^{(L)}}\\right)  $$\n",
    "\n",
    "Similarly for the biases we have\n",
    "\n",
    "$$\\frac{\\partial \\mathcal{L}}{\\partial b_L} = 1 \\cdot \\frac{\\partial \\mathcal{L}}{\\partial Z^{(L)}} $$\n",
    "\n",
    "We can now use these matrices to update the weights and biases"
   ]
  },
  {
   "cell_type": "markdown",
   "metadata": {},
   "source": [
    "### STEP 4: $Z^{(L)} \\to A^{(L-1)}$\n",
    "\n",
    "To complete the back propogation we must step back through each layer. \n",
    "\n",
    "Looking again at $Z^{(L)} = A^{(L-1)}W + b$. This is just a linear map so the Jacobian is just $W_L$ and so\n",
    "\n",
    "$$\\frac{\\partial \\mathcal{L}}{\\partial A^{(L-1)}} = \\left( \\frac{\\partial \\mathcal{L}}{\\partial Z^{(L)}} \\right) W_L^T$$\n",
    "\n",
    "We can now back propogate recursively all the way back to the input layer"
   ]
  },
  {
   "cell_type": "code",
   "execution_count": 10,
   "metadata": {},
   "outputs": [],
   "source": [
    "class FCNN:\n",
    "    ...\n",
    "    def backward(self, dLoss: Arr) -> Arr:\n",
    "        \"\"\" compute the loss gradients\n",
    "        \n",
    "         Args:\n",
    "            dLoss: dL/dA, the derivative of the loss with respect \n",
    "                to the activated value of the nodes           \n",
    "         Returns:\n",
    "            the derivative of the loss with respect to the \n",
    "            activated nodes in the previous layer\n",
    "         Remarks:\n",
    "            when working with a batch of records, dW and db must be \n",
    "            summed along the first dimension\n",
    "        \"\"\"\n",
    "        dZ = self.activation.grad(self.Z, self.A, dLoss)\n",
    "        self.dW = self.A_prev.T @ dZ\n",
    "        self.db = dZ.sum(axis=0, keepdims=True)\n",
    "        return dZ @ self.W.T"
   ]
  },
  {
   "cell_type": "markdown",
   "metadata": {},
   "source": [
    "# A Complete Implementation"
   ]
  },
  {
   "cell_type": "code",
   "execution_count": 11,
   "metadata": {},
   "outputs": [],
   "source": [
    "from typing import Callable, Generator, Iterable, Tuple, TypeVar\n",
    "from itertools import tee\n",
    "\n",
    "\n",
    "T = TypeVar(\"T\")\n",
    "Arr = NewType(\"Arr\", np.ndarray)\n",
    "\n",
    "\n",
    "def pairwise(iterable: Iterable[T]) -> Generator[Tuple[T, T], None, None]:\n",
    "    \"\"\" iterate in pairs (a,b,c...) -> (a,b), (b,c), ... \"\"\"\n",
    "    a, b = tee(iterable)\n",
    "    next(b)\n",
    "    yield from zip(a, b)\n",
    "\n",
    "\n",
    "def one_hot_encode(Y: Arr) -> Arr:\n",
    "    \"\"\" encode array of integers 0-9 as an (n x 10) {0,1}-array \"\"\"\n",
    "    assert len(Y.shape) == 1\n",
    "    n = Y.shape[0]\n",
    "    encoded = np.zeros((n, 10))\n",
    "    encoded[np.arange(n), Y] = 1\n",
    "    return encoded\n",
    "\n",
    "\n",
    "class SSELoss:\n",
    "    def __call__(self, Yhat: Arr, Y: Arr) -> Arr:\n",
    "        \"\"\" Sum Square Error Loss\n",
    "         \n",
    "         Args:\n",
    "            Yhat: the prediction for each class\n",
    "            Y: the actual observations (one-hot-encoded)\n",
    "        \"\"\"\n",
    "        assert Yhat.shape == Y.shape\n",
    "        return np.square(Yhat - Y).mean(axis=0).sum()\n",
    "    \n",
    "    @staticmethod\n",
    "    def grad(Yhat: Arr, Y: Arr) -> Arr:\n",
    "        \"\"\" compute the gradient dL/dYhat \"\"\"\n",
    "        assert Yhat.shape == Y.shape\n",
    "        return (2 / Y.shape[0]) * (Yhat - Y)\n",
    "\n",
    "\n",
    "class ReLU:\n",
    "    def __call__(self, Z: Arr) -> Arr:\n",
    "        \"\"\" Rectified Linear Unit \"\"\"\n",
    "        return np.where(Z > 0., Z, 0.)\n",
    "    \n",
    "    @staticmethod\n",
    "    def grad(Z: Arr, A: Arr, dA: Arr) -> Arr:\n",
    "        \"\"\" compute the gradient dL/dZ\n",
    "        \n",
    "         Args:\n",
    "             Z: the value of the unactivated layer\n",
    "             A: the values of the activated layer\n",
    "             dA: the derivatives of the loss with respect to\n",
    "                 the activated layer (dL/dA)\n",
    "         Returns:\n",
    "             the derivatives of the loss with respect to the\n",
    "             unactivated layer\n",
    "        \"\"\"\n",
    "        return np.where(Z > 0., dA, 0.)\n",
    "\n",
    "\n",
    "class Softmax:\n",
    "    def __call__(self, Z: Arr) -> Arr:\n",
    "        \"\"\" compute the softmax \"\"\"\n",
    "        exp = np.exp(Z)\n",
    "        return exp / exp.sum(axis=1, keepdims=True)\n",
    "    \n",
    "    @classmethod\n",
    "    def grad(cls, Z: Arr, A: Arr, dA: Arr) -> Arr:\n",
    "        \"\"\" compute the gradient dL/dZ \"\"\"\n",
    "        dZ = cls.diag(A) - np.einsum(\"ij,ik->ijk\", A, A)\n",
    "        return np.einsum(\"ij,ijk->ik\", dA, dZ)\n",
    "\n",
    "    @staticmethod\n",
    "    def diag(Z: Arr) -> Arr:\n",
    "        \"\"\" turn a m x n array into an m x n x n array such \n",
    "            that the j-th row of the input array is converted\n",
    "            to a diagonal n x n matrix\n",
    "        \"\"\"\n",
    "        m, n = Z.shape\n",
    "        out = np.zeros((m, n, n))\n",
    "        # in Einstein notation ii->i is the diagonal\n",
    "        np.einsum(\"ijj->ij\", out)[...] = Z\n",
    "        return out\n",
    "\n",
    "\n",
    "class FullyConnectedLayer:    \n",
    "    def __init__(self, nodes_from: int, nodes_to: int, activation: Callable):\n",
    "        \"\"\" a fully connected layer of the nerual network \n",
    "        \n",
    "         Args:\n",
    "            nodes_from: the number of nodes in the previous layer\n",
    "            nodes_to: the number of nodes in this layer\n",
    "            activation: the activation function        \n",
    "        \"\"\"\n",
    "        self.W = np.random.rand(nodes_from, nodes_to) - 0.5\n",
    "        self.b = np.random.rand(1, nodes_to) - 0.5\n",
    "        self.activation = activation\n",
    "        self.A_prev = None\n",
    "        self.Z = None\n",
    "        self.A = None\n",
    "        self.dW = None\n",
    "        self.db = None\n",
    "\n",
    "    def forward(self, A_prev: Arr) -> Arr:\n",
    "        \"\"\" compute the values in this layer\n",
    "        \n",
    "         Args:\n",
    "             A: the values of the nodes in the previous layer\n",
    "         Returns:\n",
    "             The values of the nodes in this layer\n",
    "        \"\"\"\n",
    "        self.A_prev = A_prev\n",
    "        self.Z = A_prev @ self.W + self.b\n",
    "        self.A = self.activation(self.Z)\n",
    "        return self.A\n",
    "\n",
    "    def backward(self, dLoss: Arr) -> Arr:\n",
    "        \"\"\" compute the loss gradients\n",
    "        \n",
    "         Args:\n",
    "            dLoss: dL/dA, the derivative of the loss with respect \n",
    "                to the activated value of the nodes\n",
    "            batch_size: the number of records in the batch            \n",
    "         Returns:\n",
    "            the derivative of the loss with respect to the \n",
    "            activated nodes in the previous layer                \n",
    "        \"\"\"\n",
    "        dZ = self.activation.grad(self.Z, self.A, dLoss)\n",
    "        self.dW = self.A_prev.T @ dZ\n",
    "        self.db = dZ.sum(axis=0, keepdims=True)\n",
    "        return dZ @ self.W.T\n",
    "\n",
    "    def step(self, learning_rate: float) -> None:\n",
    "        \"\"\" perform a step in the negative direction of the gradient \"\"\"\n",
    "        if self.dW is None or self.db is None:\n",
    "            raise ValueError(\n",
    "                \"cannot call step before computing gradients. Try \"\n",
    "                \"calling backward() first\"\n",
    "            )\n",
    "        self.W -= learning_rate * self.dW\n",
    "        self.b -= learning_rate * self.b\n",
    "        self.dW = None\n",
    "        self.db = None\n",
    "\n",
    "\n",
    "class FCNN:    \n",
    "    def __init__(self, *layers: int):\n",
    "        \"\"\" a fully connected neurel network \n",
    "        \n",
    "         Args:\n",
    "            *layers: the number of nodes in each layer including\n",
    "                the input and output layers\n",
    "        \"\"\"\n",
    "        assert len(layers) >= 3, \"FCNN must have at least one hidden layer\"\n",
    "        self.input_size = layers[0]\n",
    "        \n",
    "        self.layers = []\n",
    "        pairs = list(pairwise(layers))\n",
    "        for n_from, n_to in pairs[:-1]:\n",
    "            fc = FullyConnectedLayer(n_from, n_to, ReLU())\n",
    "            self.layers.append(fc)\n",
    "        \n",
    "        # the final pair uses Softmax\n",
    "        n_from, n_to = pairs[-1]\n",
    "        fc = FullyConnectedLayer(n_from, n_to, Softmax())\n",
    "        self.layers.append(fc)\n",
    "        \n",
    "        self.loss = SSELoss()\n",
    "\n",
    "    def forward(self, X: Arr) -> Arr:\n",
    "        \"\"\" compute the forward pass \n",
    "         \n",
    "         Args:\n",
    "             X: an n x m array of training/testing data. n should\n",
    "                equal the number of observations and m the size \n",
    "                of the input layer\n",
    "         Returns:\n",
    "             The output layer of the network\n",
    "        \"\"\"\n",
    "        assert len(X.shape) == 2\n",
    "        assert X.shape[1] == self.input_size\n",
    "        \n",
    "        A = X\n",
    "        for layer in self.layers:\n",
    "            A = layer.forward(A)\n",
    "\n",
    "        return A\n",
    "\n",
    "    def backward(self, X: Arr, Y: Arr) -> None:\n",
    "        \"\"\" run the back propagation\n",
    "        \n",
    "         Args:\n",
    "             X: the n x m array passed to forward\n",
    "             Y: the actual observations as a one-hot-encoded \n",
    "                array\n",
    "        \"\"\"\n",
    "        n, m = X.shape\n",
    "        assert m == self.input_size\n",
    "        assert n == Y.shape[0]\n",
    "        \n",
    "        out = self.layers[-1]\n",
    "        dA = self.loss.grad(out.A, Y)  # dLoss / dA       \n",
    "        for layer in reversed(self.layers):\n",
    "            dA = layer.backward(dA)\n",
    "\n",
    "    def step(self, learning_rate: float) -> None:\n",
    "        \"\"\" perform a step in the negative direction of the gradient \"\"\"\n",
    "        for layer in self.layers:\n",
    "            layer.step(learning_rate)"
   ]
  },
  {
   "cell_type": "code",
   "execution_count": 12,
   "metadata": {},
   "outputs": [],
   "source": [
    "# test that it runs with no errors\n",
    "model = FCNN(28*28, 100, 10)\n",
    "batchX, batchY = Xtest[:1000], Ytest[:1000]\n",
    "OHY = one_hot_encode(batchY)\n",
    "model.forward(batchX)    \n",
    "model.backward(batchX, OHY)\n",
    "model.step(learning_rate=0.1)"
   ]
  },
  {
   "cell_type": "markdown",
   "metadata": {},
   "source": [
    "## Gradient Descent\n",
    "\n",
    "Now we must write the code to actually perform the gradient descent using the MNIST data\n",
    "\n",
    "_note_: to make the display work in jupyterlab I recommend installing ipywidgets\n",
    "```\n",
    "pip install ipywidgets\n",
    "jupyter lab clean\n",
    "jupyter labextension install @jupyter-widgets/jupyterlab-manager\n",
    "```"
   ]
  },
  {
   "cell_type": "code",
   "execution_count": 13,
   "metadata": {},
   "outputs": [],
   "source": [
    "def get_accuracy(X: Arr, Y: Arr) -> float:\n",
    "    \"\"\" compute the accuracy of the predictions \"\"\"\n",
    "    return (X.argmax(axis=1) == Y).sum() / len(Y)\n",
    "\n",
    "\n",
    "def batch(X: Arr, Y: Arr, batch_size: int, shuffle: bool = True) -> Generator[Tuple[Arr, Arr], None, None]:\n",
    "    \"\"\" yield batches of X and Y of the given batch size \"\"\"\n",
    "    n, _ = X.shape\n",
    "    if shuffle:\n",
    "        p = np.random.permutation(n)\n",
    "        Y = Y[p]\n",
    "        X = X[p]\n",
    "    for ix in itertools.count(step=batch_size):\n",
    "        end = ix + batch_size\n",
    "        if end > n:\n",
    "            return\n",
    "        yield X[ix:end], Y[ix:end]"
   ]
  },
  {
   "cell_type": "code",
   "execution_count": 14,
   "metadata": {},
   "outputs": [],
   "source": [
    "import itertools\n",
    "from typing import List\n",
    "\n",
    "import pandas as pd\n",
    "from IPython.display import display, clear_output\n",
    "from ipywidgets import Output\n",
    "\n",
    "\n",
    "def train_epoch(model: FCNN, Xtrain: Arr, Ytrain: Arr, \n",
    "                batch_size: int, learning_rate: float) -> None:\n",
    "    \"\"\" train a single epoch of the model \"\"\"\n",
    "    for (X, Y) in batch(Xtrain, Ytrain, batch_size):\n",
    "            OHY = one_hot_encode(Y)\n",
    "            out = model.forward(X)\n",
    "            model.backward(X, OHY)\n",
    "            model.step(learning_rate)\n",
    "\n",
    "            \n",
    "def score(model: FCNN, Xtest: Arr, Ytest: Arr) -> str:\n",
    "    \"\"\" return the loss and accuracy on the test set \"\"\"\n",
    "    out = model.forward(Xtest)\n",
    "    loss = model.loss(out, one_hot_encode(Ytest))\n",
    "    accuracy = get_accuracy(out, Ytest)\n",
    "    return loss, accuracy\n",
    "\n",
    "\n",
    "def fit(model: FCNN, Xtrain: Arr, Ytrain: Arr, Xtest: Arr, Ytest: Arr, \n",
    "        batch_size: int = 1000, learning_rate: float = 0.1, \n",
    "        epochs: int = 5) -> List[Tuple[float, float]]:\n",
    "    \"\"\" fit the neural network \n",
    "    \n",
    "     Args:\n",
    "        model: the FCNN model\n",
    "        Xtrain: the training data\n",
    "        Ytrain: the actual observations\n",
    "        Xtest: the testing data\n",
    "        Ytest: the actual observations\n",
    "        batch_size: the number of observations to use in each step\n",
    "            of the gradient descent to compute the loss gradient\n",
    "        learning_rate: the factor by which the gradients of the weights\n",
    "            and biases will be scaled before making a gradient descent\n",
    "        epochs: the number of times to pass over the training data\n",
    "    \"\"\"\n",
    "    \n",
    "    scores = []\n",
    "    status_template = \"EPOCH {:<3}: TRAIN LOSS: {:<6.4f}  ACCURACY: {:<5.3}\\tTEST LOSS: {:<6.4f}  ACCURACY: {:<5.3}\"\n",
    "    cell_output = Output()\n",
    "    display(cell_output)\n",
    "    \n",
    "    for epoch in range(epochs):\n",
    "        train_epoch(model, Xtrain, Ytrain, batch_size, learning_rate)\n",
    "        \n",
    "        train_score = score(model, Xtrain, Ytrain) \n",
    "        test_score = score(model, Xtest, Ytest)\n",
    "        scores.append((*train_score, *test_score))\n",
    "        \n",
    "        with cell_output:\n",
    "            clear_output(wait=True)\n",
    "            print(status_template.format(epoch, *train_score, *test_score))\n",
    "    \n",
    "    return pd.DataFrame(scores, columns=[\"TrainLoss\", \"TrainAccuracy\", \"TestLoss\", \"TestAccuracy\"])\n"
   ]
  },
  {
   "cell_type": "code",
   "execution_count": 15,
   "metadata": {},
   "outputs": [
    {
     "data": {
      "application/vnd.jupyter.widget-view+json": {
       "model_id": "fcb8a6e0a3ea44d9a816477d977f391d",
       "version_major": 2,
       "version_minor": 0
      },
      "text/plain": [
       "Output()"
      ]
     },
     "metadata": {},
     "output_type": "display_data"
    }
   ],
   "source": [
    "model = FCNN(28*28, 100, 10)\n",
    "df_scores = fit(model, Xtrain, Ytrain, Xtest, Ytest, learning_rate=0.1, epochs=200)"
   ]
  },
  {
   "cell_type": "markdown",
   "metadata": {},
   "source": [
    "## Plot the Loss"
   ]
  },
  {
   "cell_type": "code",
   "execution_count": 16,
   "metadata": {},
   "outputs": [
    {
     "data": {
      "image/png": "[encoded data removed]",
      "text/plain": [
       "<Figure size 1440x432 with 2 Axes>"
      ]
     },
     "metadata": {
      "needs_background": "light"
     },
     "output_type": "display_data"
    }
   ],
   "source": [
    "import matplotlib.pyplot as plt\n",
    "\n",
    "def plot_scores(df: pd.DataFrame):\n",
    "    \"\"\" plot the loss and accuracy \"\"\"\n",
    "    fig, (ax0, ax1) = plt.subplots(ncols=2, sharex=True, figsize=(20, 6))\n",
    "\n",
    "    df.TrainLoss.plot(ax=ax0, label=\"Train\")\n",
    "    df.TestLoss.plot(ax=ax0, label=\"Test\")\n",
    "    ax0.set_title(\"Loss\", fontsize=20)\n",
    "    ax0.set_xlabel(\"epoch\", fontsize=16)\n",
    "    ax0.set_ylim(0)\n",
    "    ax0.legend(fontsize=14)\n",
    "\n",
    "    df.TrainAccuracy.plot(ax=ax1, label=\"Train\")\n",
    "    df.TestAccuracy.plot(ax=ax1, label=\"Test\")\n",
    "    ax1.set_title(\"Accuracy\", fontsize=20)\n",
    "    ax1.set_xlabel(\"epoch\", fontsize=16)\n",
    "    ax1.set_ylim(0, 1)\n",
    "    ax1.legend(fontsize=14)\n",
    "\n",
    "    plt.show()\n",
    "    \n",
    "plot_scores(df_scores)"
   ]
  },
  {
   "cell_type": "markdown",
   "metadata": {},
   "source": [
    "# PyTorch"
   ]
  },
  {
   "cell_type": "markdown",
   "metadata": {},
   "source": [
    "Let's create the same model using PyTorch"
   ]
  },
  {
   "cell_type": "code",
   "execution_count": 17,
   "metadata": {},
   "outputs": [],
   "source": [
    "import torch\n",
    "from torch.utils.data import TensorDataset, DataLoader\n",
    "\n",
    "train_data = TensorDataset(torch.tensor(Xtrain), torch.tensor(Ytrain))\n",
    "train_loader = DataLoader(train_data, batch_size=1000)\n",
    "\n",
    "test_data = TensorDataset(torch.tensor(Xtest), torch.tensor(Ytest))\n",
    "test_loader = DataLoader(test_data, batch_size=1000)"
   ]
  },
  {
   "cell_type": "code",
   "execution_count": 18,
   "metadata": {},
   "outputs": [],
   "source": [
    "import torch.nn as nn\n",
    "import torch.nn.functional as F\n",
    "\n",
    "\n",
    "class PYTModel(nn.Module):\n",
    "    def __init__(self):\n",
    "        super().__init__()\n",
    "        self.fc1 = nn.Linear(28*28, 100)\n",
    "        self.fc2 = nn.Linear(100, 10)\n",
    "\n",
    "    def forward(self, x):\n",
    "        x = self.fc1(x.float())\n",
    "        x = F.relu(x)\n",
    "        x = self.fc2(x)\n",
    "        return F.softmax(x, dim=1)"
   ]
  },
  {
   "cell_type": "code",
   "execution_count": 19,
   "metadata": {},
   "outputs": [],
   "source": [
    "from torch.optim.optimizer import Optimizer\n",
    "import torch.optim as optim\n",
    "\n",
    "\n",
    "def train_pytorch_epoch(model: nn.Module, train_loader: DataLoader, optimizer: Optimizer) -> None:\n",
    "    model.train()\n",
    "    for ix, (X, Y) in enumerate(train_loader):\n",
    "        OHY = torch.Tensor(one_hot_encode(Y))\n",
    "        \n",
    "        # reset the gradients to zero (dW, db, etc.)\n",
    "        optimizer.zero_grad()                \n",
    "        output = model(X)\n",
    "        \n",
    "        # FCNN uses SSE Loss (sum square error). In PyTorch the closest is\n",
    "        # MSE (mean square error) with reduction=\"sum\" rather than \"mean\"\n",
    "        # but \"sum\" doesn't average over the batch size so that is accounted\n",
    "        # for in score_pytorch and the learning rate\n",
    "        loss = F.mse_loss(output, OHY, reduction=\"sum\")\n",
    "        loss.backward()\n",
    "        optimizer.step()\n",
    "\n",
    "\n",
    "def score_pytorch(model: nn.Module, X: torch.Tensor, Y: torch.Tensor):\n",
    "    model.eval()\n",
    "    with torch.no_grad():\n",
    "        OHY = torch.Tensor(one_hot_encode(Y))\n",
    "        output = model(X)\n",
    "        loss = F.mse_loss(output, OHY, reduction=\"sum\") / X.shape[0]  # account for batch size\n",
    "        accuracy = get_accuracy(output, Y)\n",
    "        return loss, accuracy\n",
    "\n",
    "\n",
    "def fit_pytorch(model: nn.Module, \n",
    "                train_loader: DataLoader, \n",
    "                test_loader: DataLoader,\n",
    "                optimizer: Optimizer,\n",
    "                epochs: int = 100\n",
    "               ) -> List[Tuple[float, float]]:\n",
    "    \"\"\" fit the PyTorch Model \"\"\"\n",
    "    scores = []\n",
    "    status_template = \"EPOCH {:<3}: TRAIN LOSS: {:<6.4f}  ACCURACY: {:<5.3}\\tTEST LOSS: {:<6.4f}  ACCURACY: {:<5.3}\"\n",
    "    cell_output = Output()\n",
    "    display(cell_output)\n",
    "    \n",
    "    for epoch in range(epochs):\n",
    "        train_pytorch_epoch(model, train_loader, optimizer)\n",
    "        train_score = score_pytorch(model, *train_loader.dataset.tensors)\n",
    "        test_score = score_pytorch(model, *test_loader.dataset.tensors)\n",
    "        scores.append((*train_score, *test_score))\n",
    "        \n",
    "        with cell_output:\n",
    "            clear_output(wait=True)\n",
    "            print(status_template.format(epoch, *train_score, *test_score))\n",
    "            \n",
    "    return pd.DataFrame(scores, columns=[\"TrainLoss\", \"TrainAccuracy\", \"TestLoss\", \"TestAccuracy\"], dtype=np.float64)"
   ]
  },
  {
   "cell_type": "code",
   "execution_count": 20,
   "metadata": {},
   "outputs": [
    {
     "data": {
      "application/vnd.jupyter.widget-view+json": {
       "model_id": "c77a762cd0a742ec9c712a8163a23242",
       "version_major": 2,
       "version_minor": 0
      },
      "text/plain": [
       "Output()"
      ]
     },
     "metadata": {},
     "output_type": "display_data"
    }
   ],
   "source": [
    "pytm = PYTModel()\n",
    "\n",
    "# FCNN uses uses Stochastic Gradient Descent, or SGD in PyTorch\n",
    "# to make it similar to FCNN the learning rate is divided by 1000\n",
    "# to account for the averaging accross the batch\n",
    "optimizer = optim.SGD(pytm.parameters(), lr=1e-5)\n",
    "\n",
    "df_pytorch_scores = fit_pytorch(pytm, train_loader, test_loader, optimizer, epochs=200)"
   ]
  },
  {
   "cell_type": "code",
   "execution_count": 21,
   "metadata": {},
   "outputs": [
    {
     "data": {
      "image/png": "[encoded data removed]",
      "text/plain": [
       "<Figure size 1440x432 with 2 Axes>"
      ]
     },
     "metadata": {
      "needs_background": "light"
     },
     "output_type": "display_data"
    }
   ],
   "source": [
    "plot_scores(df_pytorch_scores)"
   ]
  },
  {
   "cell_type": "markdown",
   "metadata": {},
   "source": [
    "The model performs rather well despite being fairly basic. Some things that could be improved:\n",
    "* Use a more appropriate loss function such as Cross-Entropy Loss\n",
    "* Use a better optimizer to reduce training time\n",
    "* Add a convolutional layer\n",
    "\n",
    "All of these are straight forward with PyTorch. For instance, we can already change the optimizer to `Adadelta` and we can train the model in an order of magnitude fewer epochs."
   ]
  },
  {
   "cell_type": "code",
   "execution_count": 22,
   "metadata": {},
   "outputs": [
    {
     "data": {
      "application/vnd.jupyter.widget-view+json": {
       "model_id": "f6ae263e374e4bc7bdc354cfd79c65f8",
       "version_major": 2,
       "version_minor": 0
      },
      "text/plain": [
       "Output()"
      ]
     },
     "metadata": {},
     "output_type": "display_data"
    }
   ],
   "source": [
    "pytm = PYTModel()\n",
    "\n",
    "optimizer = optim.Adadelta(pytm.parameters(), lr=0.1)\n",
    " \n",
    "df_pytorch_scores = fit_pytorch(pytm, train_loader, test_loader, optimizer, epochs=25)"
   ]
  },
  {
   "cell_type": "code",
   "execution_count": 23,
   "metadata": {},
   "outputs": [
    {
     "data": {
      "image/png": "[encoded data removed]",
      "text/plain": [
       "<Figure size 1440x432 with 2 Axes>"
      ]
     },
     "metadata": {
      "needs_background": "light"
     },
     "output_type": "display_data"
    }
   ],
   "source": [
    "plot_scores(df_pytorch_scores)"
   ]
  },
  {
   "cell_type": "code",
   "execution_count": null,
   "metadata": {},
   "outputs": [],
   "source": []
  }
 ],
 "metadata": {
  "kernelspec": {
   "display_name": "Python 3",
   "language": "python",
   "name": "python3"
  },
  "language_info": {
   "codemirror_mode": {
    "name": "ipython",
    "version": 3
   },
   "file_extension": ".py",
   "mimetype": "text/x-python",
   "name": "python",
   "nbconvert_exporter": "python",
   "pygments_lexer": "ipython3",
   "version": "3.6.8"
  }
 },
 "nbformat": 4,
 "nbformat_minor": 4
}
